{
 "cells": [
  {
   "cell_type": "code",
   "execution_count": 28,
   "id": "503c9de9",
   "metadata": {},
   "outputs": [],
   "source": [
    "import numpy as np\n",
    "from matplotlib import pyplot as plt\n",
    "#import seaborn"
   ]
  },
  {
   "cell_type": "code",
   "execution_count": 29,
   "id": "c175327a",
   "metadata": {},
   "outputs": [],
   "source": [
    "# seaborn.set_style('ticks')\n",
    "# seaborn.set_style({\"xtick.direction\": \"in\",\"ytick.direction\": \"in\", 'xtick.top':True, 'ytick.right':True})\n",
    "# seaborn.set_context('paper')\n",
    "# seaborn.set_palette('Dark2')"
   ]
  },
  {
   "cell_type": "code",
   "execution_count": 52,
   "id": "229e3c59",
   "metadata": {},
   "outputs": [
    {
     "name": "stdout",
     "output_type": "stream",
     "text": [
      "Loading benchmarks from file = ../output/theory_scaling_numpart_max0.1.npz\n"
     ]
    }
   ],
   "source": [
    "timings_file = '../output/theory_scaling_numpart_max0.1.npz'\n",
    "print(\"Loading benchmarks from file = {0}\".format(timings_file))\n",
    "f = np.load(timings_file)"
   ]
  },
  {
   "cell_type": "code",
   "execution_count": 53,
   "id": "754f2e51",
   "metadata": {},
   "outputs": [],
   "source": [
    "keys = f['keys']\n",
    "isa = f['isa']\n",
    "proj_types = f['proj_types']\n",
    "runtimes = f['runtimes']\n",
    "mock = 'mock' in timings_file\n",
    "#runtimes = convert_numpy_bytes_to_unicode(runtimes)"
   ]
  },
  {
   "cell_type": "code",
   "execution_count": 54,
   "id": "8bda84af",
   "metadata": {},
   "outputs": [],
   "source": [
    "plt_speedup = False\n",
    "all_np = np.array(sorted(list(set(runtimes['ndata']))))\n",
    "min_np = min(all_np)"
   ]
  },
  {
   "cell_type": "code",
   "execution_count": 55,
   "id": "9d206c60",
   "metadata": {},
   "outputs": [
    {
     "name": "stdout",
     "output_type": "stream",
     "text": [
      "     123        0.001        0.001     |     444        0.004        0.003     |    1596        0.037        0.020     |    5739        0.401        0.161     |   20630        5.023        1.842     |   74154       64.333       22.527     |"
     ]
    }
   ],
   "source": [
    "for npart in all_np:\n",
    "    print(\" {0:7d} \".format(npart), end='')\n",
    "    for mod in keys:\n",
    "        for run_isa in isa:\n",
    "            ind = (runtimes['ndata'] == npart) & \\\n",
    "                  (runtimes['name'] == mod) & \\\n",
    "                  (runtimes['isa'] == run_isa)\n",
    "            s_ind = (runtimes['ndata'] == min_np) & \\\n",
    "                    (runtimes['name'] == mod) & \\\n",
    "                    (runtimes['isa'] == run_isa)\n",
    "\n",
    "            # Note, this is only looking at the pair-counting time\n",
    "            # and ignoring the total runtime ~ pair_time + serial_time\n",
    "            # For the mocks, serial_time (~0.08 sec) *is* the limiting\n",
    "            # factor in efficiency.\n",
    "            serial_avg = (runtimes['pair_time'][s_ind]).mean()\n",
    "            para_avg = (runtimes['pair_time'][ind]).mean()\n",
    "\n",
    "            if plt_speedup:\n",
    "                # If you want the Amdahl's law limited max. effiency,\n",
    "                # uncomment the following lines.\n",
    "                # serial_avg = np.mean(runtimes['runtime'][s_ind])\n",
    "                # para_avg = np.mean(runtimes['runtime'][ind])\n",
    "                # serial_para_runs = np.mean(runtimes['serial_time'][ind])\n",
    "                # serial_serial_runs = np.mean(runtimes['serial_time'][s_ind])\n",
    "                # theoretical_best_time = serial_runtime_in_parallel_runs + \\\n",
    "                #                         (serial_avg-serial_runtime_in_serial_runs)/it\n",
    "                # print(\"{0:9.1f}({1:3.1f})\".format((serial_avg/it)/para_avg*100,\n",
    "                #                                   (serial_avg/it)/theoretical_best_time*100.0),\n",
    "                #       end='')\n",
    "                fallback_ind = (runtimes['ndata'] == npart) & \\\n",
    "                               (runtimes['name'] == mod) & \\\n",
    "                               (runtimes['isa'] == 'fallback')\n",
    "\n",
    "                fallback_avg = (runtimes['pair_time'][fallback_ind]).mean()\n",
    "                print(\"{0:12.1f}x \".format(fallback_avg/para_avg),\n",
    "                      end='')\n",
    "\n",
    "            else:\n",
    "                print(\"{0:12.3f} \".format(para_avg),\n",
    "                      end='')\n",
    "\n",
    "        print(\"    |\", end='')"
   ]
  },
  {
   "cell_type": "code",
   "execution_count": 56,
   "id": "be59c6b6",
   "metadata": {},
   "outputs": [
    {
     "name": "stdout",
     "output_type": "stream",
     "text": [
      "[   123    444   1596   5739  20630  74154 741540]\n",
      "[2.23277815e-05 2.90938565e-04 3.75924928e-03 4.86080055e-02\n",
      " 6.28107252e-01 8.11529883e+00 8.11529883e+02]\n"
     ]
    },
    {
     "data": {
      "image/png": "[encoded data removed]",
      "text/plain": [
       "<Figure size 576x576 with 1 Axes>"
      ]
     },
     "metadata": {
      "needs_background": "light"
     },
     "output_type": "display_data"
    }
   ],
   "source": [
    "#assert len(keys) == 2\n",
    "ncols = len(keys)\n",
    "figwidth = 8*ncols\n",
    "fig, axes = plt.subplots(nrows=1, ncols=ncols, sharex=True, sharey=True, squeeze=False, figsize=(figwidth,figwidth))\n",
    "for ax in axes.T:\n",
    "    ax[-1].set_xlabel(r'$N_\\mathrm{particles}$')\n",
    "for ax in axes:\n",
    "    ax[0].set_ylabel(r'SIMD Speedup' if plt_speedup else 'Runtime [sec]')\n",
    "fig.subplots_adjust(hspace=0, wspace=0)\n",
    "axes = axes.reshape(-1)\n",
    "plt_mod = {'DDrppi':r'$\\mathrm{DD}(r_p,\\pi)$', 'DD':r'$\\mathrm{DD}(r)$', 'wp':r'$w_p(r_p)$', 'xi':r'$\\xi(r)$',\n",
    "           'DDrppi (DD)':r'$\\mathrm{DD}(r_p,\\pi)$', 'DDtheta (DD)':r'$\\mathrm{DD}(\\theta)$',\n",
    "           'DDrppi (DR)':r'$\\mathrm{DR}(r_p,\\pi)$', 'DDtheta (DR)':r'$\\mathrm{DR}(\\theta)$',\n",
    "           'DDsmu':r'$\\mathrm{DD}(s,\\mu)$'}\n",
    "\n",
    "for mod,ax in zip(keys,axes):\n",
    "    ax.set_title(plt_mod[mod], position=(0.1,0.8), loc='left')\n",
    "    if plt_speedup:\n",
    "        ax.set_xlim(1e3, 2e6)\n",
    "        ax.set_ylim(0.5,5.0)\n",
    "\n",
    "    plt_isa = {'avx512f':'AVX-512', 'avx':'AVX', 'sse42':'SSE 4.2', 'fallback':'Fallback'}\n",
    "    plt_proj = {'None':'', 'tophat':'tophat'}\n",
    "    for proj_type in proj_types:\n",
    "\n",
    "        for run_isa in isa:\n",
    "            rt = []\n",
    "\n",
    "            for npart in all_np:\n",
    "                s_ind = (runtimes['ndata'] == npart) & \\\n",
    "                        (runtimes['name'] == mod) & \\\n",
    "                        (runtimes['proj_type'] == proj_type) & \\\n",
    "                        (runtimes['isa'] == 'fallback')\n",
    "                serial_avg = (runtimes['runtime'][s_ind]).mean()\n",
    "\n",
    "                ind = (runtimes['ndata'] == npart) & \\\n",
    "                    (runtimes['name'] == mod) & \\\n",
    "                    (runtimes['proj_type'] == proj_type) & \\\n",
    "                    (runtimes['isa'] == run_isa)\n",
    "                para_avg = (runtimes['runtime'][ind]).mean()\n",
    "                rt += [serial_avg/para_avg if plt_speedup else para_avg]\n",
    "\n",
    "            label = plt_isa[run_isa]\n",
    "            if proj_type!='None':\n",
    "                label += f'\\n({plt_proj[proj_type]})'\n",
    "            if plt_speedup:\n",
    "                ax.semilogx(all_np, rt, label=label)\n",
    "            else:\n",
    "                ax.loglog(all_np, rt, label=label)\n",
    "\n",
    "            if 'avx' == run_isa and not plt_speedup:\n",
    "            #if proj_type=='None':\n",
    "            #if run_isa=='fallback' and proj_type=='None':\n",
    "                pltx = np.concatenate([all_np, [all_np[-1]*10]])\n",
    "                plty = rt[-1]*(.6*pltx/pltx[-2])**2.\n",
    "                ax.loglog(pltx, plty, ':', c='k')\n",
    "                \n",
    "                print(pltx)\n",
    "                print(plty)\n",
    "                \n",
    "        axes[0].annotate(r'$\\propto N^2$', xy=(.22, .1), xycoords='axes fraction')\n",
    "        axes[-1].legend(loc='lower right', labelspacing=0.02)"
   ]
  },
  {
   "cell_type": "code",
   "execution_count": null,
   "id": "6649e42c",
   "metadata": {},
   "outputs": [],
   "source": []
  },
  {
   "cell_type": "code",
   "execution_count": null,
   "id": "7645ebc9",
   "metadata": {},
   "outputs": [],
   "source": []
  }
 ],
 "metadata": {
  "kernelspec": {
   "display_name": "Python 3",
   "language": "python",
   "name": "python3"
  },
  "language_info": {
   "codemirror_mode": {
    "name": "ipython",
    "version": 3
   },
   "file_extension": ".py",
   "mimetype": "text/x-python",
   "name": "python",
   "nbconvert_exporter": "python",
   "pygments_lexer": "ipython3",
   "version": "3.8.5"
  }
 },
 "nbformat": 4,
 "nbformat_minor": 5
}
