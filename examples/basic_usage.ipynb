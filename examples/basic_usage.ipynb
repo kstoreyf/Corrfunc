{
 "cells": [
  {
   "cell_type": "code",
   "execution_count": 1,
   "metadata": {},
   "outputs": [],
   "source": [
    "import Corrfunc\n",
    "from Corrfunc import bases, theory, utils\n",
    "import numpy as np\n",
    "boxsize = 750.0\n",
    "x, y, z = Corrfunc.io.read_lognormal_catalog(n='2e-4')\n",
    "nd = len(x)\n",
    "nr = 3*nd\n",
    "x_rand = np.random.uniform(0, boxsize, nr)\n",
    "y_rand = np.random.uniform(0, boxsize, nr)\n",
    "z_rand = np.random.uniform(0, boxsize, nr)"
   ]
  },
  {
   "cell_type": "code",
   "execution_count": 2,
   "metadata": {},
   "outputs": [],
   "source": [
    "proj_type = 'generalr'\n",
    "kwargs = {'order': 3}\n",
    "projfn = 'cubic_spline.dat'\n",
    "rmin, rmax, ncomponents = 40.0, 150.0, 11\n",
    "bases = bases.spline_bases(rmin, rmax, projfn, ncomponents, ncont=2000, **kwargs)"
   ]
  },
  {
   "cell_type": "code",
   "execution_count": null,
   "metadata": {},
   "outputs": [],
   "source": [
    "r_edges = np.linspace(rmin, rmax, ncomponents+1)\n",
    "nmubins = 1\n",
    "mumax = 1.0\n",
    "periodic = True\n",
    "nthreads = 4\n",
    "\n",
    "dd_res, dd_proj, _ = theory.DDsmu(1, nthreads, r_edges, mumax, nmubins, x, y, z, \n",
    "                                  boxsize=boxsize, periodic=periodic, proj_type=proj_type, \n",
    "                                  ncomponents=ncomponents, projfn=projfn)\n",
    "dr_res, dr_proj, _ = theory.DDsmu(0, nthreads, r_edges, mumax, nmubins, x, y, z, \n",
    "                                  X2=x_rand, Y2=y_rand, Z2=z_rand, \n",
    "                                  boxsize=boxsize, periodic=periodic, proj_type=proj_type, \n",
    "                                  ncomponents=ncomponents, projfn=projfn)\n",
    "rr_res, rr_proj, trr_proj = theory.DDsmu(1, nthreads, r_edges, mumax, nmubins, \n",
    "                                         x_rand, y_rand, z_rand, boxsize=boxsize,\n",
    "                                         periodic=periodic, proj_type=proj_type,\n",
    "                                         ncomponents=ncomponents, projfn=projfn)"
   ]
  },
  {
   "cell_type": "code",
   "execution_count": null,
   "metadata": {},
   "outputs": [],
   "source": [
    "amps = utils.compute_amps(ncomponents, nd, nd, nr, nr, dd_proj, dr_proj, dr_proj, rr_proj, trr_proj)\n",
    "r_fine = np.linspace(rmin, rmax, 2000)\n",
    "xi_proj = utils.evaluate_xi(amps, r_fine, proj_type, projfn=projfn)"
   ]
  },
  {
   "cell_type": "code",
   "execution_count": null,
   "metadata": {},
   "outputs": [],
   "source": [
    "import matplotlib\n",
    "from matplotlib import pylab\n",
    "%config InlineBackend.figure_format = 'retina'\n",
    "matplotlib.rcParams['figure.dpi'] = 80\n",
    "textsize = 'x-large'\n",
    "params = {'legend.fontsize': 'x-large',\n",
    "          'figure.figsize': (10, 8),\n",
    "         'axes.labelsize': textsize,\n",
    "         'axes.titlesize': textsize,\n",
    "         'xtick.labelsize': textsize,\n",
    "         'ytick.labelsize': textsize}\n",
    "pylab.rcParams.update(params)"
   ]
  },
  {
   "cell_type": "code",
   "execution_count": null,
   "metadata": {},
   "outputs": [],
   "source": [
    "from matplotlib import pyplot as plt\n",
    "\n",
    "xi_res = Corrfunc.theory.xi(boxsize, nthreads, r_edges, x, y, z, output_ravg=True)\n",
    "r_avg, xi_standard = xi_res['ravg'], xi_res['xi']\n",
    "\n",
    "plt.figure(figsize=(10,7))\n",
    "plt.plot(r_fine, xi_proj, color='red', lw=1.5, label='Cubic spline basis')\n",
    "plt.plot(r_avg, xi_standard, marker='o', ls='None', color='grey', label='Standard estimator')\n",
    "plt.xlabel(r'r ($h^{-1}$Mpc)')\n",
    "plt.ylabel(r'$\\xi$(r)')\n",
    "plt.legend()\n",
    "\n",
    "r = bases[:,0]\n",
    "base_vals = bases[:,1:]\n",
    "for i in range(base_vals.shape[1]):\n",
    "    plt.plot(r, amps[i]*base_vals[:,i], color='darkred', lw=0.5)\n",
    "plt.xlabel(r'r ($h^{-1}$Mpc)')"
   ]
  },
  {
   "cell_type": "code",
   "execution_count": null,
   "metadata": {},
   "outputs": [],
   "source": []
  }
 ],
 "metadata": {
  "kernelspec": {
   "display_name": "Python 3",
   "language": "python",
   "name": "python3"
  },
  "language_info": {
   "codemirror_mode": {
    "name": "ipython",
    "version": 3
   },
   "file_extension": ".py",
   "mimetype": "text/x-python",
   "name": "python",
   "nbconvert_exporter": "python",
   "pygments_lexer": "ipython3",
   "version": "3.7.3"
  }
 },
 "nbformat": 4,
 "nbformat_minor": 4
}
