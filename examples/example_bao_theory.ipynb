{
 "cells": [
  {
   "cell_type": "code",
   "execution_count": 1,
   "metadata": {},
   "outputs": [],
   "source": [
    "import os\n",
    "import numpy as np\n",
    "#%matplotlib inline\n",
    "import matplotlib.pyplot as plt\n",
    "plt.ion()\n",
    "\n",
    "#%load_ext autoreload\n",
    "#%autoreload 2\n",
    "import nbodykit\n",
    "import Corrfunc\n",
    "\n",
    "from Corrfunc.theory.DDsmu import DDsmu\n",
    "from Corrfunc.utils import compute_amps\n",
    "from Corrfunc.utils import evaluate_xi\n",
    "from Corrfunc.utils import qq_analytic\n",
    "from Corrfunc.bases import bao"
   ]
  },
  {
   "cell_type": "markdown",
   "metadata": {},
   "source": [
    "# Iterative BAO on Theory Data"
   ]
  },
  {
   "cell_type": "markdown",
   "metadata": {},
   "source": [
    "### Set up parameters\n",
    "\n",
    "Here we use a high-density lognormal simulation box, because we'll be able to compute the QQ term analytically."
   ]
  },
  {
   "cell_type": "code",
   "execution_count": 2,
   "metadata": {},
   "outputs": [],
   "source": [
    "boxsize = 750\n",
    "nbar_str = '1e-4'\n",
    "\n",
    "rmin = 40\n",
    "rmax = 200\n",
    "nbins = 16\n",
    "\n",
    "mumax = 1.0\n",
    "seed = 0\n",
    "#weight_type='pair_product'\n",
    "weight_type=None"
   ]
  },
  {
   "cell_type": "code",
   "execution_count": 3,
   "metadata": {},
   "outputs": [],
   "source": [
    "rbins = np.linspace(rmin, rmax, nbins+1)\n",
    "rbins_avg = 0.5*(rbins[1:]+rbins[:-1])\n",
    "rcont = np.linspace(rmin, rmax, 1000)\n",
    "\n",
    "cat_tag = '_L{}_nbar{}'.format(boxsize, nbar_str)\n",
    "cat_dir = '../byebyebias/catalogs/cats_lognormal{}'.format(cat_tag)\n",
    "\n",
    "periodic = True\n",
    "nthreads = 24\n",
    "nmubins = 1\n",
    "verbose = False"
   ]
  },
  {
   "cell_type": "markdown",
   "metadata": {},
   "source": [
    "### Load in data"
   ]
  },
  {
   "cell_type": "code",
   "execution_count": 4,
   "metadata": {},
   "outputs": [],
   "source": [
    "# data\n",
    "data_fn = '{}/cat_lognormal{}_seed{}.dat'.format(cat_dir, cat_tag, seed)\n",
    "data = np.loadtxt(data_fn)\n",
    "x, y, z = data.T\n",
    "nd = data.shape[0]\n",
    "#weights = np.full(nd, 0.5)\n",
    "weights = None"
   ]
  },
  {
   "cell_type": "code",
   "execution_count": 5,
   "metadata": {},
   "outputs": [],
   "source": [
    "# randoms\n",
    "rand_fn = '{}/rand{}_10x.dat'.format(cat_dir, cat_tag)\n",
    "random = np.loadtxt(rand_fn)\n",
    "x_rand, y_rand, z_rand = random.T\n",
    "nr = random.shape[0]\n",
    "#weights_rand = np.full(nr, 0.5)\n",
    "weights_rand = None"
   ]
  },
  {
   "cell_type": "code",
   "execution_count": 6,
   "metadata": {},
   "outputs": [
    {
     "name": "stdout",
     "output_type": "stream",
     "text": [
      "42138\n",
      "1775568906\n",
      "1775611044\n",
      "9.988266666666667e-05\n"
     ]
    }
   ],
   "source": [
    "print(nd)\n",
    "print(nd*(nd-1))\n",
    "print(nd*nd)\n",
    "\n",
    "print(nd/(750.**3))"
   ]
  },
  {
   "cell_type": "markdown",
   "metadata": {},
   "source": [
    "Input CF:"
   ]
  },
  {
   "cell_type": "code",
   "execution_count": 7,
   "metadata": {},
   "outputs": [
    {
     "data": {
      "text/plain": [
       "[<matplotlib.lines.Line2D at 0x7f6d26ed8f60>]"
      ]
     },
     "execution_count": 7,
     "metadata": {},
     "output_type": "execute_result"
    },
    {
     "data": {
      "image/png": "[encoded data removed]",
      "text/plain": [
       "<Figure size 432x288 with 1 Axes>"
      ]
     },
     "metadata": {
      "needs_background": "light"
     },
     "output_type": "display_data"
    }
   ],
   "source": [
    "plt.figure()\n",
    "r_true, xi_true, _ = np.load('{}/cf_lin_true{}.npy'.format(cat_dir, cat_tag), allow_pickle=True, encoding='latin1')\n",
    "xi_true = [xi_true[i] for i in range(len(r_true)) if rmin<=r_true[i]<rmax]\n",
    "r_true = [r_true[i] for i in range(len(r_true)) if rmin<=r_true[i]<rmax]\n",
    "plt.plot(r_true, xi_true, color='k')"
   ]
  },
  {
   "cell_type": "markdown",
   "metadata": {},
   "source": [
    "## BAO basis"
   ]
  },
  {
   "cell_type": "code",
   "execution_count": 8,
   "metadata": {},
   "outputs": [],
   "source": [
    "base_colors = ['magenta', 'red', 'orange', 'green', 'blue']\n",
    "base_names = ['a1', 'a2', 'a3', 'Bsq', 'C']"
   ]
  },
  {
   "cell_type": "markdown",
   "metadata": {},
   "source": [
    "Check out basis functions:"
   ]
  },
  {
   "cell_type": "code",
   "execution_count": 13,
   "metadata": {},
   "outputs": [],
   "source": [
    "def plot_bases(bases):\n",
    "    plt.figure()\n",
    "    bases.shape\n",
    "    r = bases[:,0]\n",
    "    for i in range(len(bases[0])-1):\n",
    "        #norm = np.mean(bases[:,i])\n",
    "        base = bases[:,i+1]\n",
    "        plt.plot(r, base, color=base_colors[i], label='{}'.format(base_names[i]))\n",
    "    plt.legend()\n",
    "    \n",
    "def run_estimator(proj_type, nprojbins, projfn):\n",
    "\n",
    "    _, dd_proj, _ = DDsmu(1, nthreads, rbins, mumax, nmubins, x, y, z,\n",
    "                    proj_type=proj_type, nprojbins=nprojbins, projfn=projfn,\n",
    "                    verbose=verbose, boxsize=boxsize, periodic=periodic)\n",
    "    print(\"DD:\")\n",
    "    print(dd_proj)\n",
    "\n",
    "    \n",
    "    _, dr_proj, _ = DDsmu(0, nthreads, rbins, mumax, nmubins, x, y, z,\n",
    "                        X2=x_rand, Y2=y_rand, Z2=z_rand, \n",
    "                        proj_type=proj_type, nprojbins=nprojbins, projfn=projfn,\n",
    "                        verbose=verbose, boxsize=boxsize, periodic=periodic)\n",
    "    _, rr_proj, qq_proj = DDsmu(1, nthreads, rbins, mumax, nmubins, x_rand, y_rand, z_rand,\n",
    "            proj_type=proj_type, nprojbins=nprojbins, projfn=projfn,\n",
    "            verbose=verbose, boxsize=boxsize, periodic=periodic)\n",
    "    print(\"DR RR QQ\")\n",
    "    print(dr_proj)\n",
    "    print(rr_proj)\n",
    "    print(qq_proj.reshape(nprojbins, nprojbins))\n",
    "    \n",
    "    volume = float(boxsize**3)\n",
    "    sbins = rbins\n",
    "    nsbins = len(rbins)-1\n",
    "    rr_ana, qq_ana = qq_analytic(rmin, rmax, nd, volume, nprojbins, nsbins, sbins, proj_type, projfn=projfn)\n",
    "    print(\"QQ ANA\")\n",
    "    print(qq_ana)\n",
    "    #dd = dd_proj*2.0/float(nd*(nd-1))\n",
    "    dd = dd_proj / float(nd*(nd-1))\n",
    "    dr = dr_proj / float(nd*nr)\n",
    "    rr = rr_proj / float(nr*(nr-1))\n",
    "    numerator = dd-2*dr+rr\n",
    "    #numerator = dd\n",
    "    print('numerator')\n",
    "    print(numerator)\n",
    "    print('dd:', dd)\n",
    "    qq_try = qq_ana/float(nd*(nd-1))\n",
    "    print(\"QQ TRY\")\n",
    "    # the factor of 100 must be (nr/nd)**2 - nd goes into qq, nr goes into rr by construction\n",
    "    print(qq_try)\n",
    "    amps_periodic_ana = np.matmul(np.linalg.inv(qq_try), numerator)\n",
    "    #amps_periodic_ana = np.matmul(np.linalg.inv(qq_ana), dd_proj) - 1\n",
    "    xi_periodic_ana = evaluate_xi(nprojbins, amps_periodic_ana, len(rcont), rcont, len(rbins)-1, rbins, proj_type, projfn=projfn)\n",
    "    print(\"amps per:\", amps_periodic_ana)        \n",
    "    qq_test = qq_ana.flatten() * 10**2\n",
    "    print(\"QQ test\")\n",
    "    print(qq_test)\n",
    "    amps_test = compute_amps(nprojbins, nd, nd, nr, nr, dd_proj, dr_proj, dr_proj, rr_proj, qq_test)\n",
    "    print(\"amps test:\", amps_test)\n",
    "    amps = compute_amps(nprojbins, nd, nd, nr, nr, dd_proj, dr_proj, dr_proj, rr_proj, qq_proj)\n",
    "    print(\"amps regular:\", amps)\n",
    "    xi_proj = evaluate_xi(nprojbins, amps_test, len(rcont), rcont, len(rbins)-1, rbins, proj_type, projfn=projfn)\n",
    "        \n",
    "    return amps_periodic_ana, xi_periodic_ana\n",
    "    #return amps_test, xi_proj\n",
    "\n",
    "def plot_bao(bases, amps):\n",
    "    plt.figure()\n",
    "    total = np.zeros(len(bases))\n",
    "    r = bases[:,0]\n",
    "    for i in range(0, bases.shape[1]-1):\n",
    "        ampbase =  amps[i]*bases[:,i+1]\n",
    "        total += ampbase\n",
    "        plt.plot(rcont, ampbase, color=base_colors[i], label='{} = {:.4f}'.format(base_names[i], amps[i]))\n",
    "    plt.plot(r, total, color='purple', label='total', lw=3, ls='-.')\n",
    "    #plt.plot(r_true, xi_true, color='k')\n",
    "    plt.xlabel(r'$r (h^{-1}Mpc)$')\n",
    "    plt.ylabel(r'$\\xi(r)$')\n",
    "    plt.xlim(rmin, rmax)\n",
    "    plt.legend()\n",
    "    \n",
    "def bao_iterative(dalpha, alpha_model):\n",
    "\n",
    "    proj_type = 'generalr'\n",
    "    projfn = 'bao.dat'\n",
    "    # The spline routine writes to file, so remember to delete later\n",
    "    kwargs = {'cosmo_base':nbodykit.cosmology.Planck15, 'redshift':0, 'dalpha':dalpha, 'alpha_model':alpha_model}\n",
    "    nprojbins, _ = bao.write_bases(rbins[0], rbins[-1], projfn, **kwargs)\n",
    "    bases = np.loadtxt(projfn)\n",
    "    \n",
    "    #plot_bases(bases)\n",
    "    \n",
    "    amps, xi = run_estimator(proj_type, nprojbins, projfn)\n",
    "    \n",
    "    plot_bao(bases, amps)\n",
    "    \n",
    "    return amps"
   ]
  },
  {
   "cell_type": "code",
   "execution_count": 10,
   "metadata": {},
   "outputs": [
    {
     "name": "stdout",
     "output_type": "stream",
     "text": [
      "dalpha: 0.01, alpha_model: 1.05\n"
     ]
    },
    {
     "data": {
      "image/png": "[encoded data removed]",
      "text/plain": [
       "<Figure size 432x288 with 1 Axes>"
      ]
     },
     "metadata": {
      "needs_background": "light"
     },
     "output_type": "display_data"
    }
   ],
   "source": [
    "proj_type = 'generalr'\n",
    "projfn = 'bao.dat'\n",
    "# The spline routine writes to file, so remember to delete later\n",
    "kwargs = {'cosmo_base':nbodykit.cosmology.Planck15, 'redshift':0, 'dalpha':0.01, 'alpha_model':1.05}\n",
    "nprojbins, _ = bao.write_bases(rbins[0], rbins[-1], projfn, **kwargs)\n",
    "bases = np.loadtxt(projfn)\n",
    "plot_bases(bases)"
   ]
  },
  {
   "cell_type": "code",
   "execution_count": 14,
   "metadata": {
    "scrolled": false
   },
   "outputs": [
    {
     "name": "stdout",
     "output_type": "stream",
     "text": [
      "dalpha: 0.0103, alpha_model: 1.03\n",
      "Applying projection requires fallback method, switching instruction set\n",
      "Reading in projection file, bao.dat...\n",
      "Read in 1000 by 6 basis data\n",
      "DD:\n",
      "[  8479.10607868 101630.84538537 139933.23999997  19597.70542501\n",
      "  -1618.14575088]\n",
      "Applying projection requires fallback method, switching instruction set\n",
      "Reading in projection file, bao.dat...\n",
      "Read in 1000 by 6 basis data\n",
      "Applying projection requires fallback method, switching instruction set\n",
      "Reading in projection file, bao.dat...\n",
      "Read in 1000 by 6 basis data\n",
      "DR RR QQ\n",
      "[  84545.42782496 1014555.26974668 1397840.99399139  192980.04986775\n",
      "  -16072.72285924]\n",
      "[  844609.78606386 10135196.50962231 13963962.3008599   1928306.63757979\n",
      "  -160608.42563275]\n",
      "[[  105.58005274   849.60602086   844.60978606  1034.57050314\n",
      "    -40.6179437 ]\n",
      " [  849.60602086  8446.09334689 10135.19650962  5143.6625263\n",
      "   -245.59930997]\n",
      " [  844.60978606 10135.19650962 13963.96230051  1928.30663758\n",
      "   -160.60842563]\n",
      " [ 1034.57050314  5143.6625263   1928.30663758 17950.13945163\n",
      "   -593.81736245]\n",
      " [  -40.6179437   -245.59930997  -160.60842563  -593.81736245\n",
      "     34.68516742]]\n",
      "Evaluating xi (Corrfunc/utils)\n",
      "qq analytic\n",
      "Reading in projection file, bao.dat...\n",
      "Read in 1000 by 6 basis data\n",
      "QQ ANA\n",
      "[[  1.05780813   8.51223362   8.46221945  10.3654269   -0.40695955]\n",
      " [  8.51223362  84.6221493  101.54583003  51.53399773  -2.46071183]\n",
      " [  8.46221945 101.54583003 139.90684588  19.3189787   -1.60917607]\n",
      " [ 10.3654269   51.53399773  19.3189787  179.84722757  -5.94965357]\n",
      " [ -0.40695955  -2.46071183  -1.60917607  -5.94965357   0.34751333]]\n",
      "numerator\n",
      "[ 9.19754646e-09  4.18470399e-08  4.60037386e-09  1.60655697e-07\n",
      " -5.47804160e-09]\n",
      "dd: [ 4.77543060e-06  5.72384688e-05  7.88103686e-05  1.10374232e-05\n",
      " -9.11339315e-07]\n",
      "QQ TRY\n",
      "[[ 5.95757297e-10  4.79408802e-09  4.76592005e-09  5.83780605e-09\n",
      "  -2.29199524e-10]\n",
      " [ 4.79408802e-09  4.76591750e-08  5.71905881e-08  2.90239357e-08\n",
      "  -1.38587234e-09]\n",
      " [ 4.76592005e-09  5.71905881e-08  7.87955035e-08  1.08804444e-08\n",
      "  -9.06287593e-10]\n",
      " [ 5.83780605e-09  2.90239357e-08  1.08804444e-08  1.01289917e-07\n",
      "  -3.35084353e-09]\n",
      " [-2.29199524e-10 -1.38587234e-09 -9.06287593e-10 -3.35084353e-09\n",
      "   1.95719429e-10]]\n",
      "Evaluating xi (Corrfunc/utils)\n",
      "Reading in projection file, bao.dat...\n",
      "Read in 1000 by 6 basis data\n",
      "amps per: [-9.59579697  4.07957802 -2.5048778   1.18418463 -1.66432958]\n",
      "QQ test\n",
      "[  105.78081323   851.2233616    846.2219452   1036.54268994\n",
      "   -40.69595486   851.2233616   8462.21492974 10154.58300315\n",
      "  5153.39977322  -246.07118304   846.2219452  10154.58300315\n",
      " 13990.68458808  1931.89787034  -160.91760693  1036.54268994\n",
      "  5153.39977322  1931.89787034 17984.72275737  -594.96535734\n",
      "   -40.69595486  -246.07118304  -160.91760693  -594.96535734\n",
      "    34.75133317]\n",
      "Computing amplitudes (Corrfunc/utils)\n",
      "amps test: [-9.57712466  4.07163093 -2.52605767  1.18187376 -1.66119553]\n",
      "Computing amplitudes (Corrfunc/utils)\n",
      "amps regular: [-9.59914849  4.07942105 -2.53070934  1.18430967 -1.66528326]\n",
      "Evaluating xi (Corrfunc/utils)\n",
      "Reading in projection file, bao.dat...\n",
      "Read in 1000 by 6 basis data\n"
     ]
    },
    {
     "data": {
      "image/png": "[encoded data removed]",
      "text/plain": [
       "<Figure size 432x288 with 1 Axes>"
      ]
     },
     "metadata": {
      "needs_background": "light"
     },
     "output_type": "display_data"
    }
   ],
   "source": [
    "alpha_model = 1.03\n",
    "dalpha = 0.01*alpha_model\n",
    "amps = bao_iterative(dalpha, alpha_model)"
   ]
  },
  {
   "cell_type": "code",
   "execution_count": null,
   "metadata": {},
   "outputs": [],
   "source": []
  },
  {
   "cell_type": "code",
   "execution_count": null,
   "metadata": {},
   "outputs": [],
   "source": []
  }
 ],
 "metadata": {
  "kernelspec": {
   "display_name": "Python 3",
   "language": "python",
   "name": "python3"
  },
  "language_info": {
   "codemirror_mode": {
    "name": "ipython",
    "version": 3
   },
   "file_extension": ".py",
   "mimetype": "text/x-python",
   "name": "python",
   "nbconvert_exporter": "python",
   "pygments_lexer": "ipython3",
   "version": "3.7.3"
  }
 },
 "nbformat": 4,
 "nbformat_minor": 2
}
